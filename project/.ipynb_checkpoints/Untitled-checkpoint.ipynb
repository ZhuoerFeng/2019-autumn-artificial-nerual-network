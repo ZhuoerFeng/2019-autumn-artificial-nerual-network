{
 "cells": [
  {
   "cell_type": "code",
   "execution_count": 21,
   "metadata": {},
   "outputs": [],
   "source": [
    "import cotk\n",
    "import cotk.dataloader\n",
    "import torch\n",
    "import torch.nn as nn\n",
    "import fire"
   ]
  },
  {
   "cell_type": "code",
   "execution_count": 4,
   "metadata": {},
   "outputs": [
    {
     "name": "stdout",
     "output_type": "stream",
     "text": [
      "INFO: name: SST\n",
      "INFO: source: default\n",
      "INFO: processor type: SST\n"
     ]
    },
    {
     "name": "stderr",
     "output_type": "stream",
     "text": [
      "100%|██████████| 789539/789539 [00:02<00:00, 318826.58B/s]"
     ]
    },
    {
     "name": "stdout",
     "output_type": "stream",
     "text": [
      "INFO: resource cached at /Users/chenwei/.cotk_cache/da927877707e3a6ab38799af4b38145694ce4f1bdd41a31217e9de077c860484_unzip/trees\n"
     ]
    },
    {
     "name": "stderr",
     "output_type": "stream",
     "text": [
      "\n"
     ]
    },
    {
     "name": "stdout",
     "output_type": "stream",
     "text": [
      "valid vocab list length = 1685\n",
      "vocab list length = 19543\n",
      "train set. invalid rate: 0.186872, unknown rate: 0.000000, max length before cut: 53, cut word rate: 0.000232\n",
      "dev set. invalid rate: 0.195978, unknown rate: 0.000000, max length before cut: 50, cut word rate: 0.000045\n",
      "test set. invalid rate: 0.197736, unknown rate: 0.000000, max length before cut: 57, cut word rate: 0.000179\n"
     ]
    }
   ],
   "source": [
    "dataset = cotk.dataloader.SST(\"resources://SST\")"
   ]
  },
  {
   "cell_type": "code",
   "execution_count": 18,
   "metadata": {},
   "outputs": [
    {
     "data": {
      "text/plain": [
       "array([   2,    6,  616,   12,    1,   11,   28,    6,    1, 1282,   13,\n",
       "        110,   66,    1,   65,    9,   15,   77,   13,  277,   11,   86,\n",
       "          8,    1,   71,    1,   42,    1,    1,    7,    1,    1,    1,\n",
       "         50,  893,    1,    5,    4,    3])"
      ]
     },
     "execution_count": 18,
     "metadata": {},
     "output_type": "execute_result"
    }
   ],
   "source": [
    "dataset.get_batch('train', [0])['sent'][0]"
   ]
  },
  {
   "cell_type": "code",
   "execution_count": 20,
   "metadata": {},
   "outputs": [],
   "source": [
    "class MonoRNNEncoder():\n",
    "    def __init__(self, input_size, hidden_size, output_size, droppout_rate, bidirectional=False): # hparam: input_size, hidden_size, output_size, droppout, bidirectional\n",
    "        self.input_size = input_size\n",
    "        self.output_size = output.size\n",
    "        self.hidden_size = hidden_size\n",
    "        "
   ]
  },
  {
   "cell_type": "code",
   "execution_count": null,
   "metadata": {},
   "outputs": [],
   "source": [
    "class CtrlGenModel():\n",
    "    def __init__(self, input_size_1, hidden_size_1, output_size_1, input_size2, hidden_size_2, output_size_2):\n",
    "        self.input_size_1 = input_size_1\n",
    "        self.hidden_size_1 = hidden_size_1\n",
    "        self.output_size_1 = output_size_1\n",
    "        self.input_size_2 = input_size_2\n",
    "        self.hidden_size_2 = hidden_size_2\n",
    "        self.output_size_2 = output_size_2     \n",
    "        \n",
    "    def forward(self, input_x, label, dropout_rate):\n",
    "        temp1 = input_x\n",
    "        temp2 = nn.RNN\n",
    "        \n",
    "        \n",
    "        \n",
    "        "
   ]
  }
 ],
 "metadata": {
  "kernelspec": {
   "display_name": "Python 3",
   "language": "python",
   "name": "python3"
  },
  "language_info": {
   "codemirror_mode": {
    "name": "ipython",
    "version": 3
   },
   "file_extension": ".py",
   "mimetype": "text/x-python",
   "name": "python",
   "nbconvert_exporter": "python",
   "pygments_lexer": "ipython3",
   "version": "3.7.1"
  }
 },
 "nbformat": 4,
 "nbformat_minor": 2
}
